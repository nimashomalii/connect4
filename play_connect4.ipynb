{
 "cells": [
  {
   "cell_type": "code",
   "execution_count": 57,
   "metadata": {},
   "outputs": [],
   "source": [
    "import numpy as np \n",
    "from IPython.display import clear_output\n",
    "from time import sleep"
   ]
  },
  {
   "cell_type": "code",
   "execution_count": 65,
   "metadata": {},
   "outputs": [],
   "source": [
    "class Game : \n",
    "    def __init__(self) : \n",
    "        self.game_state = np.zeros((2 , 6 , 7))\n",
    "    def add_mohre(self , column_no  , player): \n",
    "        for i in range(5 , -1  ,-1) : \n",
    "            if self.game_state[0 , i , column_no] + self.game_state[1 , i , column_no] ==0 :\n",
    "                self.game_state[player , i , column_no] = 1\n",
    "                return True\n",
    "        return False\n",
    "    def check_winner(self): \n",
    "        players = self.game_state\n",
    "        def check_winner_for_player(player) : \n",
    "            for i in range(6) : \n",
    "                for j in range(4) : \n",
    "                    if sum(player[i  , j:j+4])==4 :\n",
    "                        return True\n",
    "            for i in range(3) : \n",
    "                for j in range(7) : \n",
    "                    if sum(player[i:i+4  ,j])==4 :\n",
    "                        return True\n",
    "            for i in range(3):\n",
    "                for j in range(4) : \n",
    "                    if player[i , j] + player[i+1 , j+1] + player[i+2 , j+2] + player[i+3 , j+3] == 4  : \n",
    "                        return True\n",
    "            return False\n",
    "        if check_winner_for_player(players[0 , : ,:]) : \n",
    "            return 1\n",
    "        elif check_winner_for_player(players[1, : ,: ]) : \n",
    "            return 2\n",
    "        else : \n",
    "            return 0 \n",
    "    def show_game(self) : \n",
    "        \n",
    "        sign=['.' ,'X' , 'O'] \n",
    "        game_stat = self.game_state\n",
    "        for i in range(6) : \n",
    "            r  = ''\n",
    "            for j in range(7) : \n",
    "                if game_stat[0 , i , j] ==1 :\n",
    "                    r = r +sign[1] + ' '\n",
    "                elif game_stat[1 , i , j] ==1 : \n",
    "                    r = r +sign[2]  + ' '\n",
    "                else : \n",
    "                    r = r +sign[0]  + ' '\n",
    "            print(r)\n",
    "        print(\"________________\")\n",
    "\n",
    "    \n"
   ]
  },
  {
   "cell_type": "code",
   "execution_count": 77,
   "metadata": {},
   "outputs": [
    {
     "name": "stdout",
     "output_type": "stream",
     "text": [
      ". . . X . . . \n",
      ". . . O . . . \n",
      ". O . O . . . \n",
      ". O . X . . . \n",
      ". O . O X . . \n",
      "X O . X X X . \n",
      "________________\n",
      "human won\n"
     ]
    }
   ],
   "source": [
    "#play random : \n",
    "done = False\n",
    "player_turn = 1\n",
    "game = Game()\n",
    "while not done : \n",
    "    player_turn = 1 - player_turn\n",
    "    status = False\n",
    "    k = 0 \n",
    "    while not status : \n",
    "        if (player_turn ==0) : \n",
    "            sleep(0.5)\n",
    "\n",
    "            choose = np.random.choice(list(range(7)))\n",
    "        else : \n",
    "            choose = int(input())\n",
    "            if k>0 : \n",
    "                print('this column is full try another column')\n",
    "        status = game.add_mohre(choose , player_turn)\n",
    "        k +=1\n",
    "    winner =game.check_winner()\n",
    "    clear_output()\n",
    "    sleep(0.1)\n",
    "    game.show_game()\n",
    "    if winner==1 : \n",
    "        print('computer won')\n",
    "        done = True\n",
    "    elif winner==2 : \n",
    "        print('human won')\n",
    "        done = True\n",
    "    \n"
   ]
  }
 ],
 "metadata": {
  "interpreter": {
   "hash": "d417a21d97a2e6b8832d21dc44f5cbe4be6e18325f874a8bb8484565b928cd54"
  },
  "kernelspec": {
   "display_name": "Python 3.11.4 64-bit",
   "language": "python",
   "name": "python3"
  },
  "language_info": {
   "codemirror_mode": {
    "name": "ipython",
    "version": 3
   },
   "file_extension": ".py",
   "mimetype": "text/x-python",
   "name": "python",
   "nbconvert_exporter": "python",
   "pygments_lexer": "ipython3",
   "version": "3.11.4"
  },
  "orig_nbformat": 4
 },
 "nbformat": 4,
 "nbformat_minor": 2
}
